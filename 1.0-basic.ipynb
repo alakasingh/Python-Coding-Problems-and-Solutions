{
 "cells": [
  {
   "cell_type": "markdown",
   "metadata": {},
   "source": [
    "### Syntax and Semantics in Python\n",
    "\n",
    "- Single line Comments and multiline comments \n",
    "- Definition of Syntax and Semantics\n",
    "- Basic Syntax Rules in Python\n",
    "- Understanding Semantics in Python\n",
    "- Common Syntax Errors and How to Avoid Them\n",
    "- Practical Code Examples"
   ]
  },
  {
   "cell_type": "markdown",
   "metadata": {},
   "source": [
    "## Syntax and Semantics in Python\n",
    "Syntax in Python refers to the set of rules that define how programs must be written for the interpreter to understand them. It includes things like indentation, the use of colons, parentheses, and the correct arrangement of keywords and symbols.\n",
    "\n",
    "Semantics refers to the meaning behind the code—the logic and behavior that result when the code is executed. While syntax is about structure, semantics is about what the code actually does."
   ]
  },
  {
   "cell_type": "code",
   "execution_count": 1,
   "metadata": {},
   "outputs": [
    {
     "name": "stdout",
     "output_type": "stream",
     "text": [
      "Adult\n"
     ]
    }
   ],
   "source": [
    "# Correct syntax and semantics\n",
    "age = 25\n",
    "if age > 18:\n",
    "    print(\"Adult\")  # This will print \"Adult\" because the condition is True\n",
    "\n",
    "# Syntax error example (missing colon)\n",
    "# if age > 18\n",
    "#     print(\"Adult\")\n",
    "\n",
    "# Semantic error example (wrong logic)\n",
    "age = 10\n",
    "if age > 18:\n",
    "    print(\"Adult\")  # This will not print anything, even though the syntax is correct"
   ]
  },
  {
   "cell_type": "markdown",
   "metadata": {},
   "source": [
    "## Indentation\n",
    "\n",
    "Indentation in Python is used to define the structure and hierarchy of the code. Unlike many other programming languages that use braces {} to group statements, Python uses indentation (spaces or tabs) to indicate blocks of code. All statements within the same block must be indented at the same level.\n",
    "\n",
    "Key Points:\n",
    "\n",
    "Indentation is mandatory in Python.\n",
    "The standard is 4 spaces per indentation level.\n",
    "Incorrect indentation will result in a IndentationError."
   ]
  },
  {
   "cell_type": "code",
   "execution_count": 2,
   "metadata": {},
   "outputs": [
    {
     "name": "stdout",
     "output_type": "stream",
     "text": [
      "Age is greater than 30\n",
      "This line is outside the if block\n"
     ]
    }
   ],
   "source": [
    "age = 32\n",
    "if age > 30:\n",
    "    print(\"Age is greater than 30\")  # This line is indented and part of the if block\n",
    "print(\"This line is outside the if block\")  # No indentation, outside the block"
   ]
  },
  {
   "cell_type": "markdown",
   "metadata": {},
   "source": [
    "## Incorrect Indentation Example:"
   ]
  },
  {
   "cell_type": "code",
   "execution_count": null,
   "metadata": {},
   "outputs": [],
   "source": [
    "# This will cause an IndentationError\n",
    "if age > 30:\n",
    "print(\"Age is greater than 30\")"
   ]
  },
  {
   "cell_type": "markdown",
   "metadata": {},
   "source": [
    "## Single line Comments and multiline comments \n",
    "\n",
    "### Single Line Comments:\n",
    "Use the # symbol to write a comment on a single line. Everything after # on that line is ignored by Python.\n",
    "\n",
    "### Multiline Comments:\n",
    "Python does not have a specific multiline comment syntax, but you can use multiple # symbols or use triple quotes (''' or \"\"\") for documentation strings."
   ]
  },
  {
   "cell_type": "code",
   "execution_count": null,
   "metadata": {},
   "outputs": [
    {
     "name": "stdout",
     "output_type": "stream",
     "text": [
      "Hello World\n"
     ]
    },
    {
     "data": {
      "text/plain": [
       "'\\nThis is a multiline string,\\noften used as a comment or docstring.\\n'"
      ]
     },
     "execution_count": 3,
     "metadata": {},
     "output_type": "execute_result"
    }
   ],
   "source": [
    "# This is a single line comment\n",
    "print(\"Hello World\")  # This is also a comment\n",
    "\n",
    "# This is a comment\n",
    "# that spans multiple lines\n",
    "\n",
    "\"\"\"\n",
    "This is a multiline string,\n",
    "often used as a comment or docstring.\n",
    "\"\"\"\n",
    "\n",
    "# juypter notebook not suppoeted multiple line comments"
   ]
  },
  {
   "cell_type": "markdown",
   "metadata": {},
   "source": [
    "## Basic Syntax Rules in Python\n",
    "\n",
    "# Indentation:\n",
    "Python uses indentation (spaces or tabs) to define code blocks. Consistent indentation is required.\n",
    "\n",
    "### if x > 0:\n",
    "     print(\"Positive\")\n",
    "\n",
    "## Case Sensitivity:\n",
    "Python is case-sensitive. For example, Variable and variable are different.\n",
    "\n",
    "## Statements End with Newline:\n",
    "Each statement typically ends at the end of a line. You can use a backslash (\\) to continue a statement on the next line.\n",
    "\n",
    "## Comments:\n",
    "Use # for single-line comments. Use triple quotes for docstrings or multiline documentation.\n",
    "\n",
    "# Variable Assignment:\n",
    "No need to declare variable types. Assignment is done with =.\n",
    "\n",
    "### age = 25\n",
    "### name = \"Alice\"\n",
    "\n",
    "## Colons for Blocks:\n",
    "Use a colon (:) to start code blocks (like after if, for, while, def, class).\n",
    "\n",
    "## Multiple Statements on One Line:\n",
    "Separate statements with a semicolon (;), but this is rarely used in practice.\n",
    "\n",
    "### x = 1; y = 2; print(x + y)\n",
    "\n",
    "## Parentheses for Function Calls:\n",
    "Always use parentheses when calling functions, even if there are no arguments.\n",
    "\n",
    "### print(\"Hello\")\n"
   ]
  },
  {
   "cell_type": "code",
   "execution_count": 5,
   "metadata": {},
   "outputs": [
    {
     "name": "stdout",
     "output_type": "stream",
     "text": [
      "43\n"
     ]
    }
   ],
   "source": [
    "## Line Continuation\n",
    "##Use a backslash (\\) to continue a statement to the next line\n",
    "\n",
    "total=1+2+3+4+5+6+7+\\\n",
    "4+5+6\n",
    "\n",
    "print(total)\n"
   ]
  },
  {
   "cell_type": "code",
   "execution_count": 6,
   "metadata": {},
   "outputs": [
    {
     "name": "stdout",
     "output_type": "stream",
     "text": [
      "15\n"
     ]
    }
   ],
   "source": [
    "## Multiple Statements on a single line\n",
    "x=5;y=10;z=x+y\n",
    "print(z)"
   ]
  },
  {
   "cell_type": "markdown",
   "metadata": {},
   "source": [
    "## Common Syntax Errors and How to Avoid Them"
   ]
  },
  {
   "cell_type": "markdown",
   "metadata": {},
   "source": [
    "## IndentationError:\n",
    "\n",
    "Occurs when code blocks are not properly indented."
   ]
  },
  {
   "cell_type": "code",
   "execution_count": null,
   "metadata": {},
   "outputs": [],
   "source": [
    "# Incorrect\n",
    "if x > 0:\n",
    "print(\"Positive\")  # IndentationError\n",
    "\n",
    "# Correct\n",
    "if x > 0:\n",
    "    print(\"Positive\")"
   ]
  },
  {
   "cell_type": "markdown",
   "metadata": {},
   "source": [
    "# Missing Colon (:):\n",
    "\n",
    "Forgetting the colon at the end of statements that start a block (like if, for, while, def, class)."
   ]
  },
  {
   "cell_type": "code",
   "execution_count": null,
   "metadata": {},
   "outputs": [],
   "source": [
    "# Incorrect\n",
    "if x > 0\n",
    "    print(\"Positive\")  # SyntaxError\n",
    "\n",
    "# Correct\n",
    "if x > 0:\n",
    "    print(\"Positive\")"
   ]
  },
  {
   "cell_type": "code",
   "execution_count": 7,
   "metadata": {},
   "outputs": [],
   "source": [
    "##Understand  Semnatics In Python\n",
    "# variable assignment\n",
    "age=32 ##age is an integer\n",
    "name=\"Krish\" ##name is a string"
   ]
  },
  {
   "cell_type": "markdown",
   "metadata": {},
   "source": [
    "## Unmatched Parentheses, Brackets, or Quotes:\n",
    "Not closing (), [], {}, or quotes."
   ]
  },
  {
   "cell_type": "code",
   "execution_count": null,
   "metadata": {},
   "outputs": [],
   "source": [
    "# Incorrect\n",
    "print(\"Hello World  # SyntaxError\n",
    "\n",
    "# Correct\n",
    "print(\"Hello World\")"
   ]
  },
  {
   "cell_type": "markdown",
   "metadata": {},
   "source": [
    "## NameError:\n",
    "Using a variable before defining it."
   ]
  },
  {
   "cell_type": "code",
   "execution_count": null,
   "metadata": {},
   "outputs": [],
   "source": [
    "# Incorrect\n",
    "print(a)  # NameError\n",
    "\n",
    "# Correct\n",
    "a = 5\n",
    "print(a)"
   ]
  },
  {
   "cell_type": "markdown",
   "metadata": {},
   "source": [
    "## Case Sensitivity:\n",
    "Using the wrong case for variable or function names."
   ]
  },
  {
   "cell_type": "code",
   "execution_count": null,
   "metadata": {},
   "outputs": [],
   "source": [
    "# Incorrect\n",
    "Print(\"Hello\")  # NameError\n",
    "\n",
    "# Correct\n",
    "print(\"Hello\")"
   ]
  },
  {
   "cell_type": "markdown",
   "metadata": {},
   "source": [
    "## How to Avoid Syntax Errors:\n",
    "\n",
    "Always check indentation and use 4 spaces per level.\n",
    "Remember to use colons after statements that start a block.\n",
    "Match all parentheses, brackets, and quotes.\n",
    "Define variables before using them.\n",
    "Use the correct case for names."
   ]
  },
  {
   "cell_type": "code",
   "execution_count": 12,
   "metadata": {},
   "outputs": [
    {
     "name": "stdout",
     "output_type": "stream",
     "text": [
      "<class 'int'>\n",
      "<class 'str'>\n"
     ]
    }
   ],
   "source": [
    "## Type Inference\n",
    "variable=10\n",
    "print(type(variable))\n",
    "variable=\"Krish\"\n",
    "print(type(variable))"
   ]
  },
  {
   "cell_type": "markdown",
   "metadata": {},
   "source": [
    "## Conclusion\n",
    "\n",
    "Understanding Python’s syntax and semantics is essential for writing code that not only runs without errors but also does what you intend. Syntax ensures your code is structured correctly, while semantics ensures your code behaves as expected.\n",
    "\n",
    "## Key Takeaways:\n",
    "\n",
    "Always pay attention to indentation,\n",
    "colons, and case sensitivity.\n",
    "Use comments and docstrings to make your code readable.\n",
    "Practice identifying and fixing common syntax errors.\n",
    "\n",
    "## Interactive Challenge:\n",
    "\n",
    "Try writing a small Python program that asks the user for their age and prints whether they are a child, teenager, or adult. Make sure to use correct syntax, indentation, and comments!"
   ]
  }
 ],
 "metadata": {
  "kernelspec": {
   "display_name": "base",
   "language": "python",
   "name": "python3"
  },
  "language_info": {
   "codemirror_mode": {
    "name": "ipython",
    "version": 3
   },
   "file_extension": ".py",
   "mimetype": "text/x-python",
   "name": "python",
   "nbconvert_exporter": "python",
   "pygments_lexer": "ipython3",
   "version": "3.13.5"
  }
 },
 "nbformat": 4,
 "nbformat_minor": 2
}
