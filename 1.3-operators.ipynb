{
 "cells": [
  {
   "cell_type": "markdown",
   "metadata": {},
   "source": [
    "\n",
    "1. Introduction to Operators\n",
    "2. Arithmetic Operators\n",
    "   - Addition\n",
    "   - Subtraction\n",
    "   - Multiplication\n",
    "   - Division\n",
    "   - Floor Division\n",
    "   - Modulus\n",
    "   - Exponentiation\n",
    "3. Comparison Operators\n",
    "   - Equal to\n",
    "   - Not equal to\n",
    "   - Greater than\n",
    "   - Less than\n",
    "   - Greater than or equal to \n",
    "   - Less than or equal to\n",
    "4. Logical Operators\n",
    "   - AND\n",
    "   - OR\n",
    "   - NOT"
   ]
  },
  {
   "cell_type": "markdown",
   "metadata": {},
   "source": [
    "### 1. Introduction to Operators\n",
    "\n",
    "**Operators** are special symbols or keywords in Python that are used to perform operations on values and variables.  \n",
    "They help you do calculations, compare values, and make decisions in your code.\n",
    "\n",
    "**Examples of what operators can do:**\n",
    "- Add or subtract numbers (`+`, `-`)\n",
    "- Multiply or divide values (`*`, `/`)\n",
    "- Compare two values (`==`, `!=`, `>`, `<`)\n",
    "- Combine logical conditions (`and`, `or`, `not`)\n",
    "\n",
    "Operators are essential for writing expressions and building logic in your Python programs."
   ]
  },
  {
   "cell_type": "markdown",
   "metadata": {},
   "source": [
    "### 2. Arithmetic Operators\n",
    "\n",
    "Arithmetic operators are used to perform mathematical operations in Python.\n",
    "\n",
    "- **Addition (`+`)**: Adds two numbers.  \n",
    "  Example: `a + b`\n",
    "\n",
    "- **Subtraction (`-`)**: Subtracts the right number from the left.  \n",
    "  Example: `a - b`\n",
    "\n",
    "- **Multiplication (`*`)**: Multiplies two numbers.  \n",
    "  Example: `a * b`\n",
    "\n",
    "- **Division (`/`)**: Divides the left number by the right (returns a float).  \n",
    "  Example: `a / b`\n",
    "\n",
    "- **Floor Division (`//`)**: Divides and returns the integer part (no decimals).  \n",
    "  Example: `a // b`\n",
    "\n",
    "- **Modulus (`%`)**: Returns the remainder after division.  \n",
    "  Example: `a % b`\n",
    "\n",
    "- **Exponentiation (`**`)**: Raises the left number to the power of the right.  \n",
    "  Example: `a ** b`\n",
    "\n"
   ]
  },
  {
   "cell_type": "code",
   "execution_count": 1,
   "metadata": {},
   "outputs": [
    {
     "name": "stdout",
     "output_type": "stream",
     "text": [
      "Addition: 12\n",
      "Subtraction: 8\n",
      "Multiplication: 20\n",
      "Division: 5.0\n",
      "Floor Division: 5\n",
      "Modulus: 0\n",
      "Exponentiation: 100\n"
     ]
    }
   ],
   "source": [
    "a = 10\n",
    "b = 2\n",
    "\n",
    "print(\"Addition:\", a + b)\n",
    "print(\"Subtraction:\", a - b)\n",
    "print(\"Multiplication:\", a * b)\n",
    "print(\"Division:\", a / b)\n",
    "print(\"Floor Division:\", a // b)\n",
    "print(\"Modulus:\", a % b)\n",
    "print(\"Exponentiation:\", a ** b)"
   ]
  },
  {
   "cell_type": "markdown",
   "metadata": {},
   "source": [
    "### 3. Comparison Operators\n",
    "\n",
    "Comparison operators are used to compare two values. The result is always `True` or `False`.\n",
    "\n",
    "- **Equal to (`==`)**: Checks if two values are equal.  \n",
    "  Example: `a == b`\n",
    "\n",
    "- **Not equal to (`!=`)**: Checks if two values are not equal.  \n",
    "  Example: `a != b`\n",
    "\n",
    "- **Greater than (`>`)**: Checks if the left value is greater than the right.  \n",
    "  Example: `a > b`\n",
    "\n",
    "- **Less than (`<`)**: Checks if the left value is less than the right.  \n",
    "  Example: `a < b`\n",
    "\n",
    "- **Greater than or equal to (`>=`)**: Checks if the left value is greater than or equal to the right.  \n",
    "  Example: `a >= b`\n",
    "\n",
    "- **Less than or equal to (`<=`)**: Checks if the left value is less than or equal to the right.  \n",
    "  Example: `a <= b`\n"
   ]
  },
  {
   "cell_type": "code",
   "execution_count": null,
   "metadata": {},
   "outputs": [],
   "source": [
    "a = 10\n",
    "b = 20\n",
    "\n",
    "print(\"Equal to:\", a == b)\n",
    "print(\"Not equal to:\", a != b)\n",
    "print(\"Greater than:\", a > b)\n",
    "print(\"Less than:\", a < b)\n",
    "print(\"Greater than or equal to:\", a >= b)\n",
    "print(\"Less than or equal to:\", a <= b)"
   ]
  },
  {
   "cell_type": "markdown",
   "metadata": {},
   "source": [
    "#### Comparison Operators"
   ]
  },
  {
   "cell_type": "code",
   "execution_count": null,
   "metadata": {},
   "outputs": [
    {
     "data": {
      "text/plain": [
       "True"
      ]
     },
     "execution_count": 11,
     "metadata": {},
     "output_type": "execute_result"
    }
   ],
   "source": [
    "# Example 1: Numbers\n",
    "x = 15\n",
    "y = 10\n",
    "\n",
    "print(\"x == y:\", x == y)   # False\n",
    "print(\"x != y:\", x != y)   # True\n",
    "print(\"x > y:\", x > y)     # True\n",
    "print(\"x < y:\", x < y)     # False\n",
    "print(\"x >= y:\", x >= y)   # True\n",
    "print(\"x <= y:\", x <= y)   # False\n",
    "\n",
    "# Example 2: Strings\n",
    "str1 = \"Python\"\n",
    "str2 = \"python\"\n",
    "\n",
    "print(\"str1 == str2:\", str1 == str2)   # False (case-sensitive)\n",
    "print(\"str1 != str2:\", str1 != str2)   # True\n",
    "\n",
    "# Example 3: Lists\n",
    "list1 = [1, 2, 3]\n",
    "list2 = [1, 2, 3]\n",
    "list3 = [3, 2, 1]\n",
    "\n",
    "print(\"list1 == list2:\", list1 == list2)   # True (same elements, same order)\n",
    "print(\"list1 == list3:\", list1 == list3)   # False (order matters)"
   ]
  },
  {
   "cell_type": "markdown",
   "metadata": {},
   "source": [
    "### 4. Logical Operators\n",
    "\n",
    "Logical operators are used to combine conditional statements. They return `True` or `False` based on the logic.\n",
    "\n",
    "- **AND (`and`)**: Returns `True` if both conditions are true.  \n",
    "  Example: `a and b`\n",
    "\n",
    "- **OR (`or`)**: Returns `True` if at least one condition is true.  \n",
    "  Example: `a or b`\n",
    "\n",
    "- **NOT (`not`)**: Returns `True` if the condition is false (reverses the result).  \n",
    "  Example: `not a`\n",
    "\n"
   ]
  },
  {
   "cell_type": "code",
   "execution_count": 2,
   "metadata": {},
   "outputs": [
    {
     "name": "stdout",
     "output_type": "stream",
     "text": [
      "AND: False\n",
      "OR: True\n",
      "NOT x: False\n",
      "NOT y: True\n"
     ]
    }
   ],
   "source": [
    "x = True\n",
    "y = False\n",
    "\n",
    "print(\"AND:\", x and y)   # False\n",
    "print(\"OR:\", x or y)     # True\n",
    "print(\"NOT x:\", not x)   # False\n",
    "print(\"NOT y:\", not y)   # True"
   ]
  },
  {
   "cell_type": "markdown",
   "metadata": {},
   "source": [
    "#### Logical Operators"
   ]
  },
  {
   "cell_type": "code",
   "execution_count": 30,
   "metadata": {},
   "outputs": [
    {
     "name": "stdout",
     "output_type": "stream",
     "text": [
      "Addition: 16.0\n",
      "Subtraction: 8.0\n",
      "Multiplication: 48.0\n",
      "Division: 3.0\n",
      "Floor Division: 3.0\n",
      "Modulus: 0.0\n",
      "Exponentiation: 20736.0\n"
     ]
    }
   ],
   "source": [
    "## Simple Calculator\n",
    "\n",
    "# Simple calculator\n",
    "num1 = float(input(\"Enter first number: \"))\n",
    "num2 = float(input(\"Enter second number: \"))\n",
    "\n",
    "# Performing arithmetic operations\n",
    "addition = num1 + num2\n",
    "subtraction = num1 - num2\n",
    "multiplication = num1 * num2\n",
    "division = num1 / num2\n",
    "floor_division = num1 // num2\n",
    "modulus = num1 % num2\n",
    "exponentiation = num1 ** num2\n",
    "\n",
    "# Displaying results\n",
    "print(\"Addition:\", addition)\n",
    "print(\"Subtraction:\", subtraction)\n",
    "print(\"Multiplication:\", multiplication)\n",
    "print(\"Division:\", division)\n",
    "print(\"Floor Division:\", floor_division)\n",
    "print(\"Modulus:\", modulus)\n",
    "print(\"Exponentiation:\", exponentiation)\n"
   ]
  },
  {
   "cell_type": "markdown",
   "metadata": {},
   "source": [
    "### Conclusion\n",
    "\n",
    "Operators are fundamental tools in Python that allow you to perform calculations, compare values, and build logical conditions in your programs. By understanding arithmetic, comparison, and logical operators, you can write more powerful and flexible code. Practice using these operators in different scenarios to strengthen your problem-solving skills and make your Python programs smarter and more interactive!"
   ]
  }
 ],
 "metadata": {
  "kernelspec": {
   "display_name": "base",
   "language": "python",
   "name": "python3"
  },
  "language_info": {
   "codemirror_mode": {
    "name": "ipython",
    "version": 3
   },
   "file_extension": ".py",
   "mimetype": "text/x-python",
   "name": "python",
   "nbconvert_exporter": "python",
   "pygments_lexer": "ipython3",
   "version": "3.13.5"
  }
 },
 "nbformat": 4,
 "nbformat_minor": 2
}
