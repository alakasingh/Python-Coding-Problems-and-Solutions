{
 "cells": [
  {
   "cell_type": "markdown",
   "id": "e6f20ce8",
   "metadata": {},
   "source": [
    "Write a program that asks the user to input a number and prints whether the number is positive.\n"
   ]
  },
  {
   "cell_type": "code",
   "execution_count": 1,
   "metadata": {},
   "outputs": [
    {
     "name": "stdout",
     "output_type": "stream",
     "text": [
      "The number is positive.\n"
     ]
    }
   ],
   "source": [
    "num = int(input(\"Enter a number: \"))\n",
    "\n",
    "if num > 0:\n",
    "    print(\"The number is positive.\")\n",
    "elif num < 0:\n",
    "    print(\"The number is negative.\")\n",
    "else:\n",
    "    print(\"The number is zero.\")"
   ]
  },
  {
   "cell_type": "markdown",
   "id": "6fac4542",
   "metadata": {},
   "source": [
    "Write a program that prints all the numbers from 1 to 10 using a for loop."
   ]
  },
  {
   "cell_type": "code",
   "execution_count": null,
   "id": "c5d553ad",
   "metadata": {},
   "outputs": [],
   "source": [
    "for i in range(1, 101):\n",
    "    print(i)"
   ]
  },
  {
   "cell_type": "markdown",
   "id": "8c6249ad",
   "metadata": {},
   "source": [
    "Write a program that prints a 5x5 grid of asterisks (*) using nested loops."
   ]
  },
  {
   "cell_type": "code",
   "execution_count": 4,
   "id": "fa4d9c48",
   "metadata": {},
   "outputs": [
    {
     "name": "stdout",
     "output_type": "stream",
     "text": [
      "* * * * * \n",
      "\n",
      "* * * * * \n",
      "\n",
      "* * * * * \n",
      "\n",
      "* * * * * \n",
      "\n",
      "* * * * * \n",
      "\n"
     ]
    }
   ],
   "source": [
    "for i in range(1,6):\n",
    "     for i in range(1, 6):\n",
    "        print(\"*\", end=\" \")\n",
    "\n",
    "     print(\"\\n\")"
   ]
  },
  {
   "cell_type": "markdown",
   "id": "20f0bcb0",
   "metadata": {},
   "source": [
    "Write a program that asks the user to input numbers until they input 0. The program should print the sum of all the input numbers."
   ]
  },
  {
   "cell_type": "code",
   "execution_count": 5,
   "id": "2c55a479",
   "metadata": {},
   "outputs": [
    {
     "name": "stdout",
     "output_type": "stream",
     "text": [
      "You entered: 4\n",
      "Sum so far: 4\n",
      "You entered: 4\n",
      "Sum so far: 8\n",
      "You entered: 3\n",
      "Sum so far: 11\n",
      "You entered: 0\n",
      "Sum so far: 11\n"
     ]
    }
   ],
   "source": [
    "sum = 0\n",
    "while num !=0:\n",
    "    num = int(input(\"Enter a number (0 to exit): \"))\n",
    "    sum = sum + num\n",
    "    print(f\"You entered: {num}\")\n",
    "    print(f\"Sum so far: {sum}\")"
   ]
  },
  {
   "cell_type": "markdown",
   "id": "b0b916f2",
   "metadata": {},
   "source": [
    "Write a program that prints all the numbers from 1 to 10 except 5 using a for loop and continue statement."
   ]
  },
  {
   "cell_type": "code",
   "execution_count": 1,
   "id": "80f3a55b",
   "metadata": {},
   "outputs": [
    {
     "name": "stdout",
     "output_type": "stream",
     "text": [
      "1\n",
      "2\n",
      "3\n",
      "4\n",
      "6\n",
      "7\n",
      "8\n",
      "9\n",
      "10\n"
     ]
    }
   ],
   "source": [
    "for i in range(1,11):\n",
    "    if i == 5:\n",
    "        continue  \n",
    "    print(i)"
   ]
  },
  {
   "cell_type": "markdown",
   "id": "8522f345",
   "metadata": {},
   "source": [
    "Write a program that defines an empty function using the pass statement.\n"
   ]
  },
  {
   "cell_type": "code",
   "execution_count": 2,
   "id": "1b4b24eb",
   "metadata": {},
   "outputs": [],
   "source": [
    "# Define an empty function using pass\n",
    "def my_function():\n",
    "    pass\n",
    "\n",
    "# Call the function\n",
    "my_function()\n"
   ]
  },
  {
   "cell_type": "markdown",
   "id": "77813d43",
   "metadata": {},
   "source": [
    "Write a program that asks the user to input a number and prints all the even numbers from 1 to that number using a for loop."
   ]
  },
  {
   "cell_type": "code",
   "execution_count": 4,
   "id": "862098c1",
   "metadata": {},
   "outputs": [
    {
     "name": "stdout",
     "output_type": "stream",
     "text": [
      "2\n",
      "4\n",
      "6\n",
      "8\n"
     ]
    }
   ],
   "source": [
    "num = int(input(\"Enter a number: \"))\n",
    "for i in range(1,num+1):\n",
    "    if i % 2 == 0:\n",
    "        print(i)"
   ]
  },
  {
   "cell_type": "markdown",
   "id": "3e3b49c5",
   "metadata": {},
   "source": [
    "Write a program that calculates the factorial of a number input by the user using a while loop."
   ]
  },
  {
   "cell_type": "code",
   "execution_count": 5,
   "id": "72969d13",
   "metadata": {},
   "outputs": [
    {
     "name": "stdout",
     "output_type": "stream",
     "text": [
      "The factorial of 5 is 120\n"
     ]
    }
   ],
   "source": [
    "num = int(input(\"Enter a number: \"))\n",
    "factorial = 1\n",
    "for i in range(1, num + 1):\n",
    "    factorial *= i\n",
    "print(f\"The factorial of {num} is {factorial}\")"
   ]
  },
  {
   "cell_type": "markdown",
   "id": "a0bbd99b",
   "metadata": {},
   "source": [
    "Write a program that calculates the sum of the digits of a number input by the user using a while loop."
   ]
  },
  {
   "cell_type": "code",
   "execution_count": 7,
   "id": "37c7ca24",
   "metadata": {},
   "outputs": [
    {
     "name": "stdout",
     "output_type": "stream",
     "text": [
      "The sum of the digits is: 24\n"
     ]
    }
   ],
   "source": [
    "num = int(input(\"Enter a number: \"))\n",
    "sum = 0\n",
    "while num > 0:\n",
    "    digit = num % 10\n",
    "    sum = sum + digit\n",
    "    num = num // 10\n",
    "print(f\"The sum of the digits is: {sum}\")"
   ]
  },
  {
   "cell_type": "markdown",
   "id": "737ec829",
   "metadata": {},
   "source": [
    "Write a program that checks if a number input by the user is a prime number using a for loop."
   ]
  },
  {
   "cell_type": "code",
   "execution_count": 13,
   "id": "6b9665c8",
   "metadata": {},
   "outputs": [
    {
     "name": "stdout",
     "output_type": "stream",
     "text": [
      "7 is a prime number.\n"
     ]
    }
   ],
   "source": [
    "num = int(input(\"Enter a number: \"))\n",
    "count =0\n",
    "for i in range(2, num):\n",
    "    if num % i == 0:\n",
    "        count = count + 1\n",
    "        break\n",
    "\n",
    "if count == 0 and num > 1:\n",
    "    print(f\"{num} is a prime number.\")\n",
    "else:\n",
    "    print(f\"{num} is not a prime number.\")\n",
    "    "
   ]
  },
  {
   "cell_type": "markdown",
   "id": "54249fd1",
   "metadata": {},
   "source": [
    "Write a program that prints the first n Fibonacci numbers, where n is input by the user."
   ]
  },
  {
   "cell_type": "code",
   "execution_count": 14,
   "id": "f5b4ff17",
   "metadata": {},
   "outputs": [
    {
     "name": "stdout",
     "output_type": "stream",
     "text": [
      "0\n",
      "1\n",
      "1\n",
      "2\n",
      "3\n",
      "5\n",
      "8\n",
      "13\n",
      "21\n",
      "34\n"
     ]
    }
   ],
   "source": [
    "num = int(input(\"Enter a number: \"))\n",
    "t1 = 0\n",
    "t2 = 1\n",
    "count = 0\n",
    "for i in range(0, num):\n",
    "    print(t1)\n",
    "    t3 = t1 + t2\n",
    "    t1 = t2\n",
    "    t2 = t3"
   ]
  }
 ],
 "metadata": {
  "kernelspec": {
   "display_name": "base",
   "language": "python",
   "name": "python3"
  },
  "language_info": {
   "codemirror_mode": {
    "name": "ipython",
    "version": 3
   },
   "file_extension": ".py",
   "mimetype": "text/x-python",
   "name": "python",
   "nbconvert_exporter": "python",
   "pygments_lexer": "ipython3",
   "version": "3.13.5"
  }
 },
 "nbformat": 4,
 "nbformat_minor": 5
}
