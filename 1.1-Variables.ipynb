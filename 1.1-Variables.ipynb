{
 "cells": [
  {
   "cell_type": "markdown",
   "metadata": {},
   "source": [
    "### Variables\n",
    "A variable in Python is like a container or a label that stores a value. You can use it to keep numbers, text, or other data so you can use them later in your program.\n",
    "\n",
    "- Introduction to Variables\n",
    "- Declaring and Assigning Variables\n",
    "- Naming Conventions\n",
    "- Understanding Variable Types\n",
    "- Type Checking and Conversion\n",
    "- Dynamic Typing\n",
    "- Practical Examples and Common Errors"
   ]
  },
  {
   "cell_type": "markdown",
   "metadata": {},
   "source": [
    "## - Introduction to Variables\n",
    "\n",
    "A variable in Python is a name that refers to a value stored in memory. Think of it as a labeled box where you can keep information, such as numbers or text, and use it later in your program.\n",
    "\n",
    "Variables make it easy to store, update, and use data.\n",
    "You do not need to declare the type of a variable in Python; it is determined automatically when you assign a value."
   ]
  },
  {
   "cell_type": "code",
   "execution_count": 1,
   "metadata": {},
   "outputs": [],
   "source": [
    "name = \"Alka\"   # Stores the text \"Alka\" in the variable 'name'\n",
    "age = 22        # Stores the number 22 in the variable 'age'"
   ]
  },
  {
   "cell_type": "markdown",
   "metadata": {},
   "source": [
    "## - Declaring and Assigning Variables\n",
    "\n",
    "In Python, you declare and assign a variable by simply writing the variable name, an equals sign (=), and the value you want to store.\n",
    "\n",
    "- You do not need to specify the type of the variable; Python figures it out automatically.\n",
    "\n",
    "- You can change the value (and type) of a variable at any time by assigning a new value."
   ]
  },
  {
   "cell_type": "code",
   "execution_count": null,
   "metadata": {},
   "outputs": [],
   "source": [
    "name = \"Alka\"    # Assigns the string \"Alka\" to the variable 'name'\n",
    "age = 22         # Assigns the number 22 to the variable 'age'\n",
    "height = 5.4     # Assigns the float 5.4 to the variable 'height'\n",
    "is_student = True  # Assigns the boolean value True to 'is_student'\n"
   ]
  },
  {
   "cell_type": "code",
   "execution_count": null,
   "metadata": {},
   "outputs": [
    {
     "name": "stdout",
     "output_type": "stream",
     "text": [
      "Name: Alka\n",
      "Age: 22\n",
      "Height: 5.4\n",
      "Is student: True\n"
     ]
    }
   ],
   "source": [
    "# Printing the variables to see their values\n",
    "\n",
    "print(\"Name:\", name)\n",
    "print(\"Age:\", age)\n",
    "print(\"Height:\", height)\n",
    "print(\"Is student:\", is_student)"
   ]
  },
  {
   "cell_type": "markdown",
   "metadata": {},
   "source": [
    "## - Naming Conventions\n",
    "\n",
    "- ariable names should be descriptive and meaningful.\n",
    "\n",
    "- They must start with a letter (a-z, A-Z) or an underscore (_), and can contain letters, numbers, and underscores.\n",
    "\n",
    "- Variable names are case sensitive (name and Name are different).\n",
    "\n",
    "- Avoid using Python reserved keywords (like for, if, class) as variable names."
   ]
  },
  {
   "cell_type": "code",
   "execution_count": null,
   "metadata": {},
   "outputs": [],
   "source": [
    "#Examples of valid variable names:\n",
    "\n",
    "\n",
    "first_name = \"Alka\"\n",
    "age22 = 22\n",
    "_height = 5.4\n",
    "is_student = True"
   ]
  },
  {
   "cell_type": "code",
   "execution_count": null,
   "metadata": {},
   "outputs": [],
   "source": [
    "#Examples of invalid variable names:\n",
    "\n",
    "# 2age = 22        # Cannot start with a number\n",
    "# first-name = \"Alka\"  # Cannot use hyphens\n",
    "# @name = \"Alka\"       # Cannot use special characters\n"
   ]
  },
  {
   "cell_type": "markdown",
   "metadata": {},
   "source": [
    "## Understanding Variable Types\n",
    "\n",
    "In Python, variables can store different types of data, such as numbers, text, or boolean values. Python is dynamically typed, which means you do not need to declare the type of a variable—it is determined automatically when you assign a value.\n",
    "\n",
    "# Common variable types:\n",
    "\n",
    "- int – Integer numbers (e.g., age = 22)\n",
    "- float – Decimal numbers (e.g., height = 5.4)\n",
    "- str – Strings, or text (e.g., name = \"Alka\")\n",
    "- bool – Boolean values (True or False, e.g., is_student = True)"
   ]
  },
  {
   "cell_type": "code",
   "execution_count": 5,
   "metadata": {},
   "outputs": [
    {
     "name": "stdout",
     "output_type": "stream",
     "text": [
      "<class 'int'>\n",
      "<class 'float'>\n",
      "<class 'str'>\n",
      "<class 'bool'>\n"
     ]
    }
   ],
   "source": [
    "age = 22          # int\n",
    "height = 5.4      # float\n",
    "name = \"Alka\"     # str\n",
    "is_student = True # bool\n",
    "\n",
    "print(type(age))       # <class 'int'>\n",
    "print(type(height))    # <class 'float'>\n",
    "print(type(name))      # <class 'str'>\n",
    "print(type(is_student))# <class 'bool'>"
   ]
  },
  {
   "cell_type": "markdown",
   "metadata": {},
   "source": [
    "- You can check the type of any variable using the type() function.\n",
    "\n",
    "- Python allows you to change the type of a variable by assigning a new value of a different type.\n"
   ]
  },
  {
   "cell_type": "markdown",
   "metadata": {},
   "source": [
    "## Type Checking and Conversion\n",
    "\n",
    "You can check the type of any variable using the type() function.\n",
    "\n",
    "Python allows you to convert (change) the type of a variable using functions like int(), float(), and str()."
   ]
  },
  {
   "cell_type": "code",
   "execution_count": 4,
   "metadata": {},
   "outputs": [
    {
     "name": "stdout",
     "output_type": "stream",
     "text": [
      "<class 'int'>\n",
      "25\n",
      "<class 'str'>\n",
      "5.4\n",
      "<class 'float'>\n"
     ]
    }
   ],
   "source": [
    "age = 25\n",
    "print(type(age))  # <class 'int'>\n",
    "\n",
    "# Type conversion\n",
    "age_str = str(age)        # Converts integer to string\n",
    "print(age_str)            # Output: \"25\"\n",
    "print(type(age_str))      # <class 'str'>\n",
    "\n",
    "height = \"5.4\"\n",
    "height_float = float(height)  # Converts string to float\n",
    "print(height_float)           # Output: 5.4\n",
    "print(type(height_float))     # <class 'float'>"
   ]
  },
  {
   "cell_type": "markdown",
   "metadata": {},
   "source": [
    "## Dynamic Typing\n",
    "\n",
    "Python is a dynamically typed language. This means the type of a variable is determined at runtime, and you can change the type of a variable by assigning it a new value of a different type."
   ]
  },
  {
   "cell_type": "code",
   "execution_count": 6,
   "metadata": {},
   "outputs": [
    {
     "name": "stdout",
     "output_type": "stream",
     "text": [
      "10 <class 'int'>\n",
      "Hello <class 'str'>\n",
      "3.14 <class 'float'>\n"
     ]
    }
   ],
   "source": [
    "var = 10         # var is an int\n",
    "print(var, type(var))\n",
    "\n",
    "var = \"Hello\"    # Now var is a str\n",
    "print(var, type(var))\n",
    "\n",
    "var = 3.14       # Now var is a float\n",
    "print(var, type(var))"
   ]
  },
  {
   "cell_type": "code",
   "execution_count": null,
   "metadata": {},
   "outputs": [],
   "source": [
    "name = \"Krish\"\n",
    "int(name)  # This will cause ValueError"
   ]
  },
  {
   "cell_type": "code",
   "execution_count": 26,
   "metadata": {},
   "outputs": [
    {
     "name": "stdout",
     "output_type": "stream",
     "text": [
      "23 <class 'int'>\n"
     ]
    }
   ],
   "source": [
    "## input\n",
    "\n",
    "age=int(input(\"What is the age\"))\n",
    "print(age,type(age))"
   ]
  },
  {
   "cell_type": "code",
   "execution_count": 27,
   "metadata": {},
   "outputs": [
    {
     "name": "stdout",
     "output_type": "stream",
     "text": [
      "Sum: 66.0\n",
      "Difference: 46.0\n",
      "Product: 560.0\n",
      "Quotient: 5.6\n"
     ]
    }
   ],
   "source": [
    "### Simple calculator\n",
    "num1 = float(input(\"Enter first number: \"))\n",
    "num2 = float(input(\"Enter second number: \"))\n",
    "\n",
    "sum = num1 + num2\n",
    "difference = num1 - num2\n",
    "product = num1 * num2\n",
    "quotient = num1 / num2\n",
    "\n",
    "print(\"Sum:\", sum)\n",
    "print(\"Difference:\", difference)\n",
    "print(\"Product:\", product)\n",
    "print(\"Quotient:\", quotient)\n"
   ]
  },
  {
   "cell_type": "markdown",
   "metadata": {},
   "source": [
    "## Conclusion\n",
    "\n",
    "Variables are essential in Python programming for storing and manipulating data. Understanding how to declare, assign, and use variables effectively is crucial for writing functional and efficient code. Following proper naming conventions and understanding variable types will help in maintaining readability and consistency in your code.\n",
    "\n",
    "## Interactive Challenge\n",
    "\n",
    "Try it yourself:\n",
    "Write a Python program that asks the user for their name and age, then prints a message like:\n",
    "\n",
    "Hello, <name>! You are <age> years old."
   ]
  }
 ],
 "metadata": {
  "kernelspec": {
   "display_name": "base",
   "language": "python",
   "name": "python3"
  },
  "language_info": {
   "codemirror_mode": {
    "name": "ipython",
    "version": 3
   },
   "file_extension": ".py",
   "mimetype": "text/x-python",
   "name": "python",
   "nbconvert_exporter": "python",
   "pygments_lexer": "ipython3",
   "version": "3.13.5"
  }
 },
 "nbformat": 4,
 "nbformat_minor": 2
}
