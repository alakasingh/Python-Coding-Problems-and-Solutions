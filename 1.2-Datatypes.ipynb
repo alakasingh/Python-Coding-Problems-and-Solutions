{
 "cells": [
  {
   "cell_type": "markdown",
   "metadata": {},
   "source": [
    "## DataType\n",
    "\n",
    "1. Introduction to Data Types\n",
    "2. Importance of Data Types in Programming\n",
    "3. Basic Data Types\n",
    "   - Integers\n",
    "   - Floating-point numbers\n",
    "   - Strings\n",
    "   - Booleans\n",
    "4. Advanced Data Types\n",
    "   - Lists\n",
    "   - Tuples\n",
    "   - Sets\n",
    "   - Dictionaries\n",
    "5. Type Conversion\n",
    "6. Practical Examples"
   ]
  },
  {
   "cell_type": "markdown",
   "metadata": {},
   "source": [
    "### 1. Introduction to Data Types\n",
    "\n",
    "A **data type** tells Python what kind of value a variable holds.  \n",
    "It helps the computer understand how to store and work with that value.\n",
    "\n",
    "For example:\n",
    "- Numbers (like `10` or `3.14`)\n",
    "- Text (like `\"hello\"`)\n",
    "- True/False values (`True` or `False`)\n",
    "\n",
    "**Why are data types important?**  \n",
    "They make sure your program uses data correctly and avoids errors.\n",
    "\n"
   ]
  },
  {
   "cell_type": "code",
   "execution_count": null,
   "metadata": {},
   "outputs": [],
   "source": [
    "age = 20          # Integer data type\n",
    "name = \"Alka\"     # String data type\n",
    "is_student = True # Boolean data type"
   ]
  },
  {
   "cell_type": "markdown",
   "metadata": {},
   "source": [
    "### 3. Basic Data Types\n",
    "\n",
    "Python has several basic data types that are used to store different kinds of information:\n",
    "\n",
    "- **Integers (`int`)**: Whole numbers, positive or negative, without decimals.  \n",
    "  Example: `10`, `-5`, `0`\n",
    "\n",
    "- **Floating-point numbers (`float`)**: Numbers with decimal points.  \n",
    "  Example: `3.14`, `-2.5`, `0.0`\n",
    "\n",
    "- **Strings (`str`)**: Sequences of characters, used to store text.  \n",
    "  Example: `\"hello\"`, `'Python'`, `\"123\"`\n",
    "\n",
    "- **Booleans (`bool`)**: Represents `True` or `False` values.  \n",
    "  Example: `True`, `False`\n"
   ]
  },
  {
   "cell_type": "code",
   "execution_count": 1,
   "metadata": {},
   "outputs": [],
   "source": [
    "age = 22            # int\n",
    "height = 5.4        # float\n",
    "name = \"Alka\"       # str\n",
    "is_student = True   # bool"
   ]
  },
  {
   "cell_type": "markdown",
   "metadata": {},
   "source": [
    "### 4. Advanced Data Types\n",
    "\n",
    "Python also provides advanced data types to store collections of values:\n",
    "\n",
    "- **Lists (`list`)**: Ordered, changeable collections of items.  \n",
    "  Example: `[1, 2, 3, \"Alka\"]`\n",
    "\n",
    "- **Tuples (`tuple`)**: Ordered, unchangeable collections of items.  \n",
    "  Example: `(10, 20, 30)`\n",
    "\n",
    "- **Sets (`set`)**: Unordered collections of unique items.  \n",
    "  Example: `{1, 2, 3}`\n",
    "\n",
    "- **Dictionaries (`dict`)**: Collections of key-value pairs.  \n",
    "  Example: `{\"name\": \"Alka\", \"age\": 22}`\n",
    "\n",
    "These advanced data types help you organize and manage groups of related data efficiently."
   ]
  },
  {
   "cell_type": "code",
   "execution_count": 3,
   "metadata": {},
   "outputs": [
    {
     "name": "stdout",
     "output_type": "stream",
     "text": [
      "Age: 22\n",
      "Height: 5.4\n",
      "Name: Alka\n",
      "Is student: True\n",
      "Marks (list): [85, 90, 95]\n",
      "Coordinates (tuple): (10.5, 20.3)\n",
      "Unique numbers (set): {1, 2, 3}\n",
      "Student info (dict): {'name': 'Alka', 'age': 22}\n"
     ]
    }
   ],
   "source": [
    "# Basic Data Types\n",
    "age = 22            # int\n",
    "height = 5.4        # float\n",
    "name = \"Alka\"       # str\n",
    "is_student = True   # bool\n",
    "\n",
    "# Advanced Data Types\n",
    "marks = [85, 90, 95]                        # list\n",
    "coordinates = (10.5, 20.3)                  # tuple\n",
    "unique_numbers = {1, 2, 3, 2}               # set (duplicates are removed)\n",
    "student_info = {\"name\": \"Alka\", \"age\": 22}  # dict\n",
    "\n",
    "print(\"Age:\", age)\n",
    "print(\"Height:\", height)\n",
    "print(\"Name:\", name)\n",
    "print(\"Is student:\", is_student)\n",
    "print(\"Marks (list):\", marks)\n",
    "print(\"Coordinates (tuple):\", coordinates)\n",
    "print(\"Unique numbers (set):\", unique_numbers)\n",
    "print(\"Student info (dict):\", student_info)"
   ]
  },
  {
   "cell_type": "markdown",
   "metadata": {},
   "source": [
    "### 5. Type Conversion\n",
    "\n",
    "Type conversion means changing a value from one data type to another.  \n",
    "Python provides built-in functions like `int()`, `float()`, and `str()` for this purpose.\n"
   ]
  },
  {
   "cell_type": "code",
   "execution_count": 4,
   "metadata": {},
   "outputs": [],
   "source": [
    "age = \"22\"           # age is a string\n",
    "age_num = int(age)   # convert string to integer\n",
    "\n",
    "height = 5           # height is an integer\n",
    "height_str = str(height)  # convert integer to string\n",
    "\n",
    "score = \"99.5\"\n",
    "score_float = float(score)  # convert string to float"
   ]
  },
  {
   "cell_type": "markdown",
   "metadata": {},
   "source": [
    "### Conclusion\n",
    "\n",
    "Understanding data types is a fundamental part of programming in Python. Data types help you organize, store, and manipulate different kinds of information, from simple numbers and text to more complex collections like lists and dictionaries. Knowing how to convert between types and use them effectively allows you to write flexible and error-free code.\n",
    "\n",
    "**Key Takeaway:**  \n",
    "Always choose the right data type for your data and use type conversion when needed. Practice using both basic and advanced data types to build a strong foundation for your Python programming journey!"
   ]
  }
 ],
 "metadata": {
  "kernelspec": {
   "display_name": "base",
   "language": "python",
   "name": "python3"
  },
  "language_info": {
   "codemirror_mode": {
    "name": "ipython",
    "version": 3
   },
   "file_extension": ".py",
   "mimetype": "text/x-python",
   "name": "python",
   "nbconvert_exporter": "python",
   "pygments_lexer": "ipython3",
   "version": "3.13.5"
  }
 },
 "nbformat": 4,
 "nbformat_minor": 2
}
